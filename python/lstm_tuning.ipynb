{
 "cells": [
  {
   "cell_type": "code",
   "execution_count": 1,
   "metadata": {},
   "outputs": [],
   "source": [
    "# Imports\n",
    "import csv\n",
    "import os\n",
    "import pickle as pkl\n",
    "import pandas as pd\n",
    "import argparse\n",
    "import cond_rnn\n",
    "\n",
    "import numpy as np\n",
    "import tensorflow as tf\n",
    "import tensorflow_addons as tfa\n",
    "import tensorflow.keras as keras\n",
    "import kerastuner\n",
    "from sklearn.model_selection import train_test_split\n",
    "from sklearn.utils import compute_class_weight\n",
    "from tensorflow.keras.callbacks import TensorBoard\n",
    "\n",
    "import tools.analysis as ta\n",
    "from tools import keras as tk\n",
    "import tools.preprocessing as tp"
   ]
  },
  {
   "cell_type": "code",
   "execution_count": null,
   "metadata": {},
   "outputs": [],
   "source": [
    " # GLOBALS   \n",
    "TIME_SEQ = 225\n",
    "TARGET = \"multi_class\"\n",
    "BATCH_SIZE = 128\n",
    "EPOCHS = 15\n",
    "MAX_TRIALS = 500\n",
    "TEST_SPLIT = 0.2\n",
    "VAL_SPLIT = 0.1\n",
    "RAND = 2021\n",
    "TB_UPDATE_FREQ = 200\n",
    "WEIGHTED_LOSS = False\n",
    "\n",
    "# Paths\n",
    "pwd = globals()['_dh'][0]\n",
    "\n",
    "output_dir = os.path.abspath(os.path.join(pwd, \"..\", \"output\"))\n",
    "data_dir = os.path.abspath(os.path.join(pwd, \"..\", \"data\", \"data\"))\n",
    "tensorboard_dir = os.path.abspath(\n",
    "    os.path.join(data_dir, \"..\", \"model_checkpoints\"))\n",
    "pkl_dir = os.path.join(output_dir, \"pkl\")\n",
    "stats_dir = os.path.join(output_dir, \"analysis\")\n",
    "\n",
    "# Create analysis dir if it doesn't exist\n",
    "os.makedirs(stats_dir, exist_ok=True)\n",
    "\n",
    "stats_filename = TARGET + \"_stats.csv\""
   ]
  },
  {
   "cell_type": "code",
   "execution_count": null,
   "metadata": {},
   "outputs": [],
   "source": [
    "# Data load\n",
    "with open(os.path.join(pkl_dir, TARGET + \"_trimmed_seqs.pkl\"), \"rb\") as f:\n",
    "    inputs = pkl.load(f)\n",
    "\n",
    "with open(os.path.join(pkl_dir, \"all_ftrs_dict.pkl\"), \"rb\") as f:\n",
    "    vocab = pkl.load(f)\n",
    "\n",
    "with open(os.path.join(pkl_dir, \"feature_lookup.pkl\"), \"rb\") as f:\n",
    "    all_feats = pkl.load(f)\n",
    "\n",
    "with open(os.path.join(pkl_dir, \"demog_dict.pkl\"), \"rb\") as f:\n",
    "    demog_lookup = pkl.load(f)\n",
    "\n",
    "# Determining number of vocab entries\n",
    "N_VOCAB = len(vocab) + 1\n",
    "N_DEMOG = len(demog_lookup) + 1\n",
    "MAX_DEMOG = max(len(x) for _, x, _ in inputs)\n",
    "N_CLASS = max(x for _, _, x in inputs) + 1\n"
   ]
  },
  {
   "cell_type": "code",
   "execution_count": null,
   "metadata": {},
   "outputs": [],
   "source": [
    "# Model Metrics and callbacks\n",
    "callbacks = [\n",
    "    TensorBoard(\n",
    "    log_dir=os.path.join(tensorboard_dir, \"lstm_hp_tune_tb\", \"\"),\n",
    "    histogram_freq=1,\n",
    "    profile_batch=0,\n",
    "    write_graph=False,\n",
    "    update_freq=TB_UPDATE_FREQ\n",
    "    ),\n",
    "    keras.callbacks.EarlyStopping(monitor=\"val_loss\",\n",
    "                                min_delta=0,\n",
    "                                patience=3,\n",
    "                                restore_best_weights=True,\n",
    "                                mode=\"min\")\n",
    "]\n",
    "\n",
    "# Create some metrics\n",
    "metrics = [\n",
    "    keras.metrics.AUC(num_thresholds=int(1e5), name=\"ROC-AUC\"),\n",
    "    keras.metrics.AUC(num_thresholds=int(1e5), curve=\"PR\", name=\"PR-AUC\"),\n",
    "    # NOTE: I think F1 Score is kind of wonky here, but I'll add it anyways\n",
    "    # because that's pretty cool.\n",
    "    tfa.metrics.F1Score(num_classes=N_CLASS, average=\"weighted\")\n",
    "]\n",
    "\n",
    "# Define loss function\n",
    "# NOTE: We were experimenting with focal loss at one point, maybe we can try that again at some point\n",
    "# loss_fn = keras.losses.categorical_crossentropy if TARGET == \"multi_class\" else keras.losses.binary_crossentropy\n"
   ]
  },
  {
   "cell_type": "code",
   "execution_count": null,
   "metadata": {},
   "outputs": [],
   "source": [
    "# TTV\n",
    "# Splitting the data\n",
    "train, test = train_test_split(\n",
    "    range(len(inputs)),\n",
    "    test_size=TEST_SPLIT,\n",
    "    stratify=[labs for _, _, labs in inputs],\n",
    "    random_state=RAND)\n",
    "\n",
    "train, validation = train_test_split(\n",
    "    train,\n",
    "    test_size=VAL_SPLIT,\n",
    "    stratify=[samp[2] for i, samp in enumerate(inputs) if i in train],\n",
    "    random_state=RAND)\n",
    "\n",
    "train_gen = tk.create_ragged_data_gen(\n",
    "    [inputs[samp] for samp in train],\n",
    "    max_demog=MAX_DEMOG,\n",
    "    epochs=EPOCHS,\n",
    "    multiclass=N_CLASS > 2,\n",
    "    random_seed=RAND,\n",
    "    batch_size=BATCH_SIZE)\n",
    "\n",
    "validation_gen = tk.create_ragged_data_gen(\n",
    "    [inputs[samp] for samp in validation],\n",
    "    max_demog=MAX_DEMOG,\n",
    "    epochs=EPOCHS,\n",
    "    shuffle=False,\n",
    "    multiclass=N_CLASS > 2,\n",
    "    random_seed=RAND,\n",
    "    batch_size=BATCH_SIZE)\n",
    "\n",
    "# NOTE: don't shuffle test data\n",
    "test_gen = tk.create_ragged_data_gen([inputs[samp] for samp in test],\n",
    "                                        max_demog=MAX_DEMOG,\n",
    "                                        epochs=1,\n",
    "                                        multiclass=N_CLASS > 2,\n",
    "                                        shuffle=False,\n",
    "                                        random_seed=RAND,\n",
    "                                        batch_size=BATCH_SIZE)\n",
    "\n",
    "# %% Compute steps-per-epoch\n",
    "# NOTE: Sometimes it can't determine this properly from tf.data\n",
    "STEPS_PER_EPOCH = np.ceil(len(train) / BATCH_SIZE)\n",
    "VALID_STEPS_PER_EPOCH = np.ceil(len(validation) / BATCH_SIZE)"
   ]
  },
  {
   "cell_type": "code",
   "execution_count": null,
   "metadata": {},
   "outputs": [],
   "source": [
    "classes = np.unique([labs for _, _, labs in inputs]).tolist()\n",
    "\n",
    "if WEIGHTED_LOSS:\n",
    "    class_weights = compute_class_weight(\n",
    "        class_weight=\"balanced\",\n",
    "        classes=classes,\n",
    "        y=[labs for _, _, labs in inputs],\n",
    "    )\n",
    "\n",
    "    class_weights = dict(zip(classes, class_weights))\n",
    "\n",
    "    print(class_weights)"
   ]
  },
  {
   "cell_type": "markdown",
   "metadata": {},
   "source": [
    "## Generate Hypermodel"
   ]
  },
  {
   "cell_type": "code",
   "execution_count": null,
   "metadata": {},
   "outputs": [],
   "source": [
    "hyper_model = tk.LSTMHyper(\n",
    "    vocab_size = N_VOCAB,\n",
    "    metrics = metrics,\n",
    "    n_classes = N_CLASS,\n",
    "    n_demog = N_DEMOG,\n",
    "    n_demog_bags=MAX_DEMOG\n",
    ")\n",
    "\n",
    "tuner = kerastuner.tuners.BayesianOptimization(\n",
    "    hyper_model,\n",
    "    max_trials=MAX_TRIALS,\n",
    "    objective=\"val_loss\",\n",
    "    project_name=\"lstm_hp_tune\",\n",
    "    # NOTE: This could be in output as well if we don't want to track/version it\n",
    "    directory=tensorboard_dir,\n",
    ")"
   ]
  },
  {
   "cell_type": "markdown",
   "metadata": {},
   "source": [
    "## Search"
   ]
  },
  {
   "cell_type": "code",
   "execution_count": null,
   "metadata": {},
   "outputs": [],
   "source": [
    "# Announce the search space\n",
    "tuner.search_space_summary()"
   ]
  },
  {
   "cell_type": "code",
   "execution_count": null,
   "metadata": {},
   "outputs": [],
   "source": [
    "tuner.search(train_gen,\n",
    "             validation_data=validation_gen,\n",
    "             epochs=EPOCHS,\n",
    "             steps_per_epoch=STEPS_PER_EPOCH,\n",
    "             validation_steps=VALID_STEPS_PER_EPOCH,\n",
    "             callbacks=callbacks\n",
    ")"
   ]
  },
  {
   "cell_type": "markdown",
   "metadata": {},
   "source": [
    "## Pull Best Model"
   ]
  },
  {
   "cell_type": "code",
   "execution_count": null,
   "metadata": {},
   "outputs": [],
   "source": [
    "tuner.results_summary()"
   ]
  },
  {
   "cell_type": "code",
   "execution_count": null,
   "metadata": {},
   "outputs": [],
   "source": [
    "# Pull the best model\n",
    "best_hp = tuner.get_best_hyperparameters()[0]\n",
    "best_model = tuner.hypermodel.build(best_hp)\n",
    "\n",
    "best_model.summary()"
   ]
  },
  {
   "cell_type": "code",
   "execution_count": null,
   "metadata": {},
   "outputs": [],
   "source": [
    "best_model.save(os.path.join(tensorboard_dir, \"lstm_hp_tune\", \"best\"))"
   ]
  }
 ],
 "metadata": {
  "kernelspec": {
   "display_name": "Python 3.8.2 64-bit ('venv': venv)",
   "language": "python",
   "name": "python38264bitvenvvenv11f8ace3faad4dd08d79c36b9c39aaa4"
  },
  "language_info": {
   "codemirror_mode": {
    "name": "ipython",
    "version": 3
   },
   "file_extension": ".py",
   "mimetype": "text/x-python",
   "name": "python",
   "nbconvert_exporter": "python",
   "pygments_lexer": "ipython3",
   "version": "3.8.2"
  },
  "metadata": {
   "interpreter": {
    "hash": "89d31c033bf313603ee1de07f165bedecb9a1c2d7c2ff2b104ae0fae591794dd"
   }
  }
 },
 "nbformat": 4,
 "nbformat_minor": 2
}
